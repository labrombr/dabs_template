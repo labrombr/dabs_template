{
 "cells": [
  {
   "cell_type": "code",
   "execution_count": 0,
   "metadata": {
    "application/vnd.databricks.v1+cell": {
     "cellMetadata": {
      "byteLimit": 2048000,
      "rowLimit": 10000
     },
     "inputWidgets": {},
     "nuid": "443adfd7-8b15-4d93-bfd8-3ca737547668",
     "showTitle": true,
     "tableResultSettingsMap": {},
     "title": "Initialise"
    }
   },
   "outputs": [],
   "source": [
    "#create widgets\n",
    "dbutils.widgets.text(\"catalog\", \"dabs_dev\")\n",
    "dbutils.widgets.text(\"schema\", \"development\")\n",
    "\n",
    "#pass widets to variables\n",
    "catalog = dbutils.widgets.get(\"catalog\")\n",
    "schema = dbutils.widgets.get(\"schema\")\n",
    "\n"
   ]
  }
 ],
 "metadata": {
  "application/vnd.databricks.v1+notebook": {
   "computePreferences": null,
   "dashboards": [],
   "environmentMetadata": {
    "base_environment": "",
    "environment_version": "2"
   },
   "inputWidgetPreferences": null,
   "language": "python",
   "notebookMetadata": {
    "pythonIndentUnit": 4
   },
   "notebookName": "Simple notebook",
   "widgets": {
    "catalog": {
     "currentValue": "dabs_dev",
     "nuid": "6cc64919-9e5d-49a2-83f2-0609dff9c447",
     "typedWidgetInfo": {
      "autoCreated": false,
      "defaultValue": "dabs_dev",
      "label": null,
      "name": "catalog",
      "options": {
       "widgetDisplayType": "Text",
       "validationRegex": null
      },
      "parameterDataType": "String"
     },
     "widgetInfo": {
      "widgetType": "text",
      "defaultValue": "dabs_dev",
      "label": null,
      "name": "catalog",
      "options": {
       "widgetType": "text",
       "autoCreated": false,
       "validationRegex": null
      }
     }
    },
    "schema": {
     "currentValue": "development",
     "nuid": "55fb1145-626a-4267-bb06-48fabc73800e",
     "typedWidgetInfo": {
      "autoCreated": false,
      "defaultValue": "development",
      "label": null,
      "name": "schema",
      "options": {
       "widgetDisplayType": "Text",
       "validationRegex": null
      },
      "parameterDataType": "String"
     },
     "widgetInfo": {
      "widgetType": "text",
      "defaultValue": "development",
      "label": null,
      "name": "schema",
      "options": {
       "widgetType": "text",
       "autoCreated": false,
       "validationRegex": null
      }
     }
    }
   }
  },
  "language_info": {
   "name": "python"
  }
 },
 "nbformat": 4,
 "nbformat_minor": 0
}
